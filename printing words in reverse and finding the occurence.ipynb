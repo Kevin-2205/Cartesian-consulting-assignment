{
 "cells": [
  {
   "cell_type": "code",
   "execution_count": 6,
   "id": "41287d94",
   "metadata": {},
   "outputs": [],
   "source": [
    "from statistics import mode"
   ]
  },
  {
   "cell_type": "code",
   "execution_count": 9,
   "id": "feac333c",
   "metadata": {},
   "outputs": [
    {
     "name": "stdout",
     "output_type": "stream",
     "text": [
      "This declaration represents a political commitment among declaration partners to advance a positive vision for the Internet in this era of a united europe\n",
      "Printing word in reverse:\n",
      "\n",
      "Europe united a of era this in internet the for vision positive a advance to partners declaration among commitment political a represents declaration this\n",
      "\n",
      "Occurrence of words:\n",
      "\n",
      "a : 3 times\n",
      "this : 2 times\n"
     ]
    }
   ],
   "source": [
    "a = input().lower().split(' ')\n",
    "a.reverse()\n",
    "a[0] = a[0].capitalize()\n",
    "\n",
    "print('Printing word in reverse:')\n",
    "print()\n",
    "print(*a)\n",
    "print()\n",
    "print('Occurrence of words:')\n",
    "print()\n",
    "\n",
    "temp = [wrd for sub in a for wrd in sub.split()]\n",
    "\n",
    "print(mode(temp),\n",
    "      ':',\n",
    "      str(a.count(mode(temp))),'times')\n",
    "\n",
    "temp = [i for i in temp \n",
    "        if i != mode(temp)]\n",
    "print(mode(temp),\n",
    "      ':',\n",
    "      str(a.count(mode(temp))),'times')"
   ]
  },
  {
   "cell_type": "code",
   "execution_count": null,
   "id": "d81b00fa",
   "metadata": {},
   "outputs": [],
   "source": []
  }
 ],
 "metadata": {
  "kernelspec": {
   "display_name": "Python 3 (ipykernel)",
   "language": "python",
   "name": "python3"
  },
  "language_info": {
   "codemirror_mode": {
    "name": "ipython",
    "version": 3
   },
   "file_extension": ".py",
   "mimetype": "text/x-python",
   "name": "python",
   "nbconvert_exporter": "python",
   "pygments_lexer": "ipython3",
   "version": "3.9.7"
  }
 },
 "nbformat": 4,
 "nbformat_minor": 5
}
